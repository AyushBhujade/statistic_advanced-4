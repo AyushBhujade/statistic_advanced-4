{
 "cells": [
  {
   "cell_type": "markdown",
   "id": "cf92965e-ae7d-4bd8-8c40-9a6f43a97d9d",
   "metadata": {},
   "source": [
    "# Quation 1 "
   ]
  },
  {
   "cell_type": "code",
   "execution_count": null,
   "id": "f55f8f15-a7a2-468d-88e0-389c445ba3df",
   "metadata": {},
   "outputs": [],
   "source": []
  },
  {
   "cell_type": "markdown",
   "id": "a0cdb357-0785-4840-a036-c66dff5071db",
   "metadata": {},
   "source": [
    "t_test- 1)T test is usefull when we dont have pupolation standard deviation.\n",
    "        2)it works good on sample size is less than 30\n",
    "        scenario: suppose we have population data which size is less than 30 and we dont have population standard deviation\n",
    "                  when we can use t test\n",
    "        \n",
    "z_test-1)z test is used when we have population standard deviation.\n",
    "        2) it works on sample size is greater than or equal to 30\n",
    "        scenario: suppose population data which contain size is more than 30 and we have the population standard deviation\n",
    "        when we can use the z test"
   ]
  },
  {
   "cell_type": "markdown",
   "id": "69b98ca8-bed4-4a2c-9f07-c6daabd889ee",
   "metadata": {},
   "source": [
    "# Quation 2"
   ]
  },
  {
   "cell_type": "markdown",
   "id": "0412c6ec-4d75-43f1-a23a-f50ff7b8a6b9",
   "metadata": {},
   "source": [
    "One tail test- 1)In the one tail test the critical region is on only one side of the distribution either left or right.\n",
    "               2)it is used when you are specifically interested in whether the population parameter is significantly greater than\n",
    "                or less than a critical value.\n",
    "                ex- tetsing if a new drug increases average recovery time (right-tailed) or decreases it (left-tailed)\n",
    "\n",
    "two tail test-1)In the two tail test the critical region is on both side of the distribution left and right\n",
    "              2)it is sed when you are interrested in whether the population parameter is significantly different from a certain\n",
    "                value.\n",
    "              ex- testing if a coin is fair using two tail iest because you are interested in deviation in either direction."
   ]
  },
  {
   "cell_type": "markdown",
   "id": "d6899509-3322-4da8-a5ca-9f7d9e5e257f",
   "metadata": {},
   "source": [
    "# Quation 3"
   ]
  },
  {
   "cell_type": "markdown",
   "id": "75cef8de-e094-45d0-aefc-3effd70f8526",
   "metadata": {},
   "source": [
    "type one error: we reject the null hypothesis when in reality it is true\n",
    "ex- null hypothesis the drug has no side effect.\n",
    "    alternate hypothesis the drug has side effect\n",
    "    occure if we wrongly reject the null hypothesis and conclude that the drug has side effect when in reality it does not \n",
    "\n",
    "type two error: we fail to reject null hypothesis when in raality it is false.\n",
    "ex: suppose we testing the student is fail or pass, null hypothesis is student is fail. we test and our result is we fail to reject \n",
    "    the null hypothesis but in reality student is pass"
   ]
  },
  {
   "cell_type": "markdown",
   "id": "99fb97f2-783d-4b4a-929e-a920f236627a",
   "metadata": {},
   "source": [
    "# Quation 4"
   ]
  },
  {
   "cell_type": "markdown",
   "id": "a84e187f-5091-40cf-8e56-d6f64b2b20bd",
   "metadata": {},
   "source": [
    "Bayes's theorem is a mathematical formula that describes the probability of an event based on prior knowledge of conditions that might be related to the event. It is named after the Reverend Thomas Bayes, who introduced the concept. The theorem is fundamental in Bayesian statistics and probability theory."
   ]
  },
  {
   "cell_type": "markdown",
   "id": "9f7dd21b-e355-4966-abc4-f8155d170f6b",
   "metadata": {},
   "source": [
    "# Quation 5"
   ]
  },
  {
   "cell_type": "markdown",
   "id": "e9370755-fafd-4a90-b62a-24976d81a0a0",
   "metadata": {},
   "source": [
    "we construct the confidence intervel to help estimate what the actual value of the unkonwn population mean.\n",
    "confidence intervel=point estimate +- margin of error.\n",
    "where the point estimate is the sample statistic (e.g., sample mean or proportion), and the margin of error represents the range of possible values around the point estimate.\n",
    "The formula for the margin of error depends on the type of parameter being estimated (mean, proportion) and the statistical distribution (usually normal or t-distribution) associated with the sample size.\n",
    "Example - Confidence Interval for the Mean:\n",
    "Suppose you want to estimate the average height of students in a school. You collect a sample of 30 students and find that their average height is 160 cm with a standard deviation of 10 cm. To calculate a 95% confidence interval for the true average height:"
   ]
  },
  {
   "cell_type": "markdown",
   "id": "2b5cb344-c032-4a3c-8d36-94b639cbf09c",
   "metadata": {},
   "source": [
    "# Quation 7"
   ]
  },
  {
   "cell_type": "code",
   "execution_count": 20,
   "id": "2a3dd9c2-8632-463f-ab49-c02230449411",
   "metadata": {},
   "outputs": [
    {
     "data": {
      "text/plain": [
       "(49.02001800772997, 50.97998199227003)"
      ]
     },
     "execution_count": 20,
     "metadata": {},
     "output_type": "execute_result"
    }
   ],
   "source": [
    "mean=50\n",
    "std=5\n",
    "ci=0.95\n",
    "sample_size=100\n",
    "std_error=std/100**0.5\n",
    "from scipy.stats import norm\n",
    "norm.interval(confidence=0.95,loc=mean,scale=std_error)"
   ]
  },
  {
   "cell_type": "markdown",
   "id": "f27ff8e0-c56c-4556-8ba6-53e04ac4c553",
   "metadata": {},
   "source": [
    "# Quation 8"
   ]
  },
  {
   "cell_type": "markdown",
   "id": "4f6b78c1-7d68-4c72-abf8-534cc200fac7",
   "metadata": {},
   "source": [
    "The margin of error (MOE) in a confidence interval represents the range within which we expect the true population parameter to lie. It is influenced by the variability in the sample data and the desired level of confidence. A smaller margin of error indicates a more precise estimate, while a larger margin of error implies greater uncertainty.\n",
    "\n",
    "The formula for the margin of error in a confidence interval is typically based on the standard error of the sample mean or proportion and involves the critical value associated with the chosen confidence level. For a mean, the formula is often expressed as:\n",
    "\n",
    "Margin of Error=Critical Value×Standard Error\n",
    "\n",
    "Key points about the margin of error:\n",
    "\n",
    "Critical Value: It depends on the chosen confidence level and the distribution (e.g., Z-score for normal distribution or t-score for t-distribution).\n"
   ]
  },
  {
   "cell_type": "markdown",
   "id": "4e565fc0-b742-4e77-beeb-e720015fad9c",
   "metadata": {},
   "source": [
    "# Quation 9"
   ]
  },
  {
   "cell_type": "code",
   "execution_count": 29,
   "id": "fcf35657-f6f1-4b77-873e-d9d3560cf8be",
   "metadata": {},
   "outputs": [
    {
     "name": "stdout",
     "output_type": "stream",
     "text": [
      "z score is : 61.0\n"
     ]
    }
   ],
   "source": [
    "x=75\n",
    "mean=70\n",
    "std=5\n",
    "#formula \n",
    "x-mean/std\n",
    "z_score=75-70/5\n",
    "print(f\"z score is : {z_score}\")"
   ]
  },
  {
   "cell_type": "markdown",
   "id": "6ad3ca38-0699-4f80-8ad5-49f2d871358c",
   "metadata": {},
   "source": [
    "# Quation 10"
   ]
  },
  {
   "cell_type": "code",
   "execution_count": 41,
   "id": "cc459e01-1c98-41e4-b37d-da0056468f18",
   "metadata": {},
   "outputs": [
    {
     "name": "stdout",
     "output_type": "stream",
     "text": [
      "reject null hypothesis\n"
     ]
    }
   ],
   "source": [
    "## null hypothesis=medicine is effective,medicine=effective\n",
    "# alternate hypothesis=medicine is not effecyive,medice != effective\n",
    "sample_size=50\n",
    "mean=6\n",
    "std=2.5\n",
    "null_mean=0\n",
    "confidence_level=0.95\n",
    "significance_value=0.05\n",
    "# calculating t statistic\n",
    "t_score=mean-null_mean/(std/sample_size**0.5)\n",
    "from scipy.stats import t\n",
    "lower_value=t.ppf(q=significance_value/2,df=49)\n",
    "higher_value=t.ppf(q=1-significance_value/2,df=49)\n",
    "if t_score<lower_value or t_score>higher_value:\n",
    "    print(\"reject null hypothesis\")\n",
    "else:\n",
    "    print(\"fail to reject null hypothesis\")\n",
    "#conclusion: drug is not significanly effective."
   ]
  },
  {
   "cell_type": "markdown",
   "id": "9730d2fd-8d7b-4b5d-a559-80d88534fbf2",
   "metadata": {},
   "source": [
    "# Quation 11"
   ]
  },
  {
   "cell_type": "code",
   "execution_count": 62,
   "id": "4816ee4f-048a-4066-8c11-f1da4a267bfb",
   "metadata": {},
   "outputs": [
    {
     "name": "stdout",
     "output_type": "stream",
     "text": [
      "lower bound: 0.6081925393809212,higher bounde:0.6918074606190788\n"
     ]
    }
   ],
   "source": [
    "# null hypothesis people are satified with job\n",
    "# alternate hypothsis people are not satisfied with job\n",
    "import math\n",
    "import scipy.stats as stat\n",
    "sample_size=500\n",
    "sample_proposition=0.65\n",
    "ci=0.95\n",
    "dof=sample_size-1\n",
    "significant_vale=0.05\n",
    "# critical point z value\n",
    "critical_value=stat.norm.ppf(q=(1+ci)/2)\n",
    "# margin of error.\n",
    "margin_of_error=critical_value*math.sqrt((sample_proposition*(1-sample_proposition))/sample_size)\n",
    "\n",
    "lower_confidence_level=sample_proposition-margin_of_error\n",
    "\n",
    "higher_confidence_level=sample_proposition+margin_of_error\n",
    "\n",
    "print(f\"lower bound: {lower_confidence_level},higher bounde:{higher_confidence_level}\")"
   ]
  },
  {
   "cell_type": "markdown",
   "id": "6ef3b9c0-b5ed-4acd-bd3a-2775b592f966",
   "metadata": {},
   "source": [
    "# Quation 12"
   ]
  },
  {
   "cell_type": "code",
   "execution_count": 69,
   "id": "4413fe0c-3cad-4f91-9f13-1dd668a3a593",
   "metadata": {},
   "outputs": [],
   "source": [
    "# null value=there is no significant differnce\n",
    "# alternate hypothesis=there is sugnificant differnce\n",
    "import scipy.stats as stat\n",
    "sample_size=30\n",
    "mean_a=85\n",
    "std_a=6\n",
    "mean_b=82\n",
    "std_b=5\n",
    "dof=sample_size-1\n",
    "significance_value=0.01\n",
    "t_value=2.756"
   ]
  },
  {
   "cell_type": "code",
   "execution_count": 77,
   "id": "87280708-e39c-4235-b8c9-cfdcb6053d64",
   "metadata": {},
   "outputs": [
    {
     "name": "stdout",
     "output_type": "stream",
     "text": [
      "reject null value\n"
     ]
    }
   ],
   "source": [
    "statistic_value,p_value=stat.ttest_ind_from_stats(mean1=mean_a,std1=std_a,nobs1=sample_size,\n",
    "                         mean2=mean_b,std2=std_b,nobs2=sample_size)\n",
    "lower_value=stat.t.ppf(q=0.01/2,df=dof)\n",
    "higher_value=stat.t.ppf(q=(1-0.01)/2,df=dof)\n",
    "if statistic_value<lower_value or statistic_value>higher_value:\n",
    "    print(\"reject null value\")\n",
    "else:\n",
    "    print(\"fail to reject null value\")"
   ]
  },
  {
   "cell_type": "markdown",
   "id": "95866e09-1326-4075-b799-d05b96edf5c2",
   "metadata": {},
   "source": [
    "# Quation13"
   ]
  },
  {
   "cell_type": "code",
   "execution_count": 89,
   "id": "49654f71-a5e1-48a4-ad30-056245bac688",
   "metadata": {},
   "outputs": [
    {
     "name": "stdout",
     "output_type": "stream",
     "text": [
      "63.13906055411732 66.86093944588268\n"
     ]
    },
    {
     "data": {
      "text/plain": [
       "(58.13906055411732, 61.86093944588268)"
      ]
     },
     "execution_count": 89,
     "metadata": {},
     "output_type": "execute_result"
    }
   ],
   "source": [
    "\n",
    "population_mean=60\n",
    "population_std=8\n",
    "sample_size=50\n",
    "sample_mean=65\n",
    "ci=0.90\n",
    "from scipy.stats import norm\n",
    "\n",
    "# critical value(z_score)\n",
    "critical_value=norm.ppf((1+ci)/2)\n",
    "#standard error\n",
    "std_error=population_std/(sample_size**0.5)\n",
    "#margin of error\n",
    "margin_of_error=critical_value*std_error\n",
    "\n",
    "lower_intervel=sample_mean-margin_of_error\n",
    "\n",
    "higher_intervel=sample_mean+margin_of_error\n",
    "print(lower_intervel,higher_intervel)\n",
    "norm.interval(confidence=0.90,loc=60,scale=std_error)"
   ]
  },
  {
   "cell_type": "markdown",
   "id": "d39ce0f2-1518-48d0-bd3f-d55807daf9b2",
   "metadata": {},
   "source": [
    "# Quation 14"
   ]
  },
  {
   "cell_type": "code",
   "execution_count": 91,
   "id": "2cdcda12-5990-41e2-9027-afd724bf557e",
   "metadata": {},
   "outputs": [
    {
     "name": "stdout",
     "output_type": "stream",
     "text": [
      "reject null hypothesis\n"
     ]
    }
   ],
   "source": [
    "# null hypothesis caffeine has no significant effect\n",
    "# alternate hypothesis Caffeine has significant efect\n",
    "from scipy.stats import t\n",
    "import math as mt\n",
    "sample_size=30\n",
    "sample_mean=0.25\n",
    "sample_std=0.05\n",
    "population_mean=100\n",
    "CI=0.90\n",
    "alpha=0.10\n",
    "t_score=sample_mean-population_mean/(sample_std/mt.sqrt(sample_size))\n",
    "lower_intervel=t.ppf(alpha/2,df=29)\n",
    "higher_intervel=t.ppf((1-alpha)/2,df=29)\n",
    "if t_score<lower_intervel or t_score>higher_intervel:\n",
    "    print(\"reject null hypothesis\")\n",
    "else:\n",
    "    print(\"fail to reject null hypothesis\")"
   ]
  },
  {
   "cell_type": "code",
   "execution_count": null,
   "id": "bf8f25ad-d8c6-43ae-9c89-f4d5383a1364",
   "metadata": {},
   "outputs": [],
   "source": []
  }
 ],
 "metadata": {
  "kernelspec": {
   "display_name": "Python 3 (ipykernel)",
   "language": "python",
   "name": "python3"
  },
  "language_info": {
   "codemirror_mode": {
    "name": "ipython",
    "version": 3
   },
   "file_extension": ".py",
   "mimetype": "text/x-python",
   "name": "python",
   "nbconvert_exporter": "python",
   "pygments_lexer": "ipython3",
   "version": "3.10.8"
  }
 },
 "nbformat": 4,
 "nbformat_minor": 5
}
